{
 "cells": [
  {
   "cell_type": "markdown",
   "metadata": {},
   "source": [
    "**Make sure to have a copy of the database file, \"world-db\", downloaded and in this directory for the below to work!**"
   ]
  },
  {
   "cell_type": "code",
   "execution_count": 1,
   "metadata": {
    "slideshow": {
     "slide_type": "slide"
    }
   },
   "outputs": [
    {
     "data": {
      "text/plain": [
       "'Connected: @./world-db'"
      ]
     },
     "execution_count": 1,
     "metadata": {},
     "output_type": "execute_result"
    }
   ],
   "source": [
    "%load_ext sql\n",
    "%sql sqlite:///./world-db"
   ]
  },
  {
   "cell_type": "markdown",
   "metadata": {},
   "source": [
    "**Exercise #1**: write a query that returns the countries that gained independence after 1989, along with the year they gained independence."
   ]
  },
  {
   "cell_type": "code",
   "execution_count": 2,
   "metadata": {},
   "outputs": [
    {
     "name": "stdout",
     "output_type": "stream",
     "text": [
      " * sqlite:///./world-db\n",
      "Done.\n"
     ]
    },
    {
     "data": {
      "text/html": [
       "<table>\n",
       "    <thead>\n",
       "        <tr>\n",
       "            <th>Name</th>\n",
       "            <th>IndepYear</th>\n",
       "        </tr>\n",
       "    </thead>\n",
       "    <tbody>\n",
       "        <tr>\n",
       "            <td>Armenia</td>\n",
       "            <td>1991</td>\n",
       "        </tr>\n",
       "        <tr>\n",
       "            <td>Azerbaijan</td>\n",
       "            <td>1991</td>\n",
       "        </tr>\n",
       "        <tr>\n",
       "            <td>Bosnia and Herzegovina</td>\n",
       "            <td>1992</td>\n",
       "        </tr>\n",
       "        <tr>\n",
       "            <td>Belarus</td>\n",
       "            <td>1991</td>\n",
       "        </tr>\n",
       "        <tr>\n",
       "            <td>Czech Republic</td>\n",
       "            <td>1993</td>\n",
       "        </tr>\n",
       "        <tr>\n",
       "            <td>Eritrea</td>\n",
       "            <td>1993</td>\n",
       "        </tr>\n",
       "        <tr>\n",
       "            <td>Estonia</td>\n",
       "            <td>1991</td>\n",
       "        </tr>\n",
       "        <tr>\n",
       "            <td>Micronesia, Federated States of</td>\n",
       "            <td>1990</td>\n",
       "        </tr>\n",
       "        <tr>\n",
       "            <td>Georgia</td>\n",
       "            <td>1991</td>\n",
       "        </tr>\n",
       "        <tr>\n",
       "            <td>Croatia</td>\n",
       "            <td>1991</td>\n",
       "        </tr>\n",
       "        <tr>\n",
       "            <td>Kazakstan</td>\n",
       "            <td>1991</td>\n",
       "        </tr>\n",
       "        <tr>\n",
       "            <td>Kyrgyzstan</td>\n",
       "            <td>1991</td>\n",
       "        </tr>\n",
       "        <tr>\n",
       "            <td>Lithuania</td>\n",
       "            <td>1991</td>\n",
       "        </tr>\n",
       "        <tr>\n",
       "            <td>Latvia</td>\n",
       "            <td>1991</td>\n",
       "        </tr>\n",
       "        <tr>\n",
       "            <td>Moldova</td>\n",
       "            <td>1991</td>\n",
       "        </tr>\n",
       "        <tr>\n",
       "            <td>Marshall Islands</td>\n",
       "            <td>1990</td>\n",
       "        </tr>\n",
       "        <tr>\n",
       "            <td>Macedonia</td>\n",
       "            <td>1991</td>\n",
       "        </tr>\n",
       "        <tr>\n",
       "            <td>Namibia</td>\n",
       "            <td>1990</td>\n",
       "        </tr>\n",
       "        <tr>\n",
       "            <td>Palau</td>\n",
       "            <td>1994</td>\n",
       "        </tr>\n",
       "        <tr>\n",
       "            <td>Russian Federation</td>\n",
       "            <td>1991</td>\n",
       "        </tr>\n",
       "        <tr>\n",
       "            <td>Slovakia</td>\n",
       "            <td>1993</td>\n",
       "        </tr>\n",
       "        <tr>\n",
       "            <td>Slovenia</td>\n",
       "            <td>1991</td>\n",
       "        </tr>\n",
       "        <tr>\n",
       "            <td>Tajikistan</td>\n",
       "            <td>1991</td>\n",
       "        </tr>\n",
       "        <tr>\n",
       "            <td>Turkmenistan</td>\n",
       "            <td>1991</td>\n",
       "        </tr>\n",
       "        <tr>\n",
       "            <td>Ukraine</td>\n",
       "            <td>1991</td>\n",
       "        </tr>\n",
       "        <tr>\n",
       "            <td>Uzbekistan</td>\n",
       "            <td>1991</td>\n",
       "        </tr>\n",
       "    </tbody>\n",
       "</table>"
      ],
      "text/plain": [
       "[('Armenia', 1991),\n",
       " ('Azerbaijan', 1991),\n",
       " ('Bosnia and Herzegovina', 1992),\n",
       " ('Belarus', 1991),\n",
       " ('Czech Republic', 1993),\n",
       " ('Eritrea', 1993),\n",
       " ('Estonia', 1991),\n",
       " ('Micronesia, Federated States of', 1990),\n",
       " ('Georgia', 1991),\n",
       " ('Croatia', 1991),\n",
       " ('Kazakstan', 1991),\n",
       " ('Kyrgyzstan', 1991),\n",
       " ('Lithuania', 1991),\n",
       " ('Latvia', 1991),\n",
       " ('Moldova', 1991),\n",
       " ('Marshall Islands', 1990),\n",
       " ('Macedonia', 1991),\n",
       " ('Namibia', 1990),\n",
       " ('Palau', 1994),\n",
       " ('Russian Federation', 1991),\n",
       " ('Slovakia', 1993),\n",
       " ('Slovenia', 1991),\n",
       " ('Tajikistan', 1991),\n",
       " ('Turkmenistan', 1991),\n",
       " ('Ukraine', 1991),\n",
       " ('Uzbekistan', 1991)]"
      ]
     },
     "execution_count": 2,
     "metadata": {},
     "output_type": "execute_result"
    }
   ],
   "source": [
    "%%sql\n",
    "SELECT Name, IndepYear\n",
    "FROM Country\n",
    "WHERE IndepYear >= '1990';"
   ]
  },
  {
   "cell_type": "markdown",
   "metadata": {},
   "source": [
    "**Exercise #2**: write a query that returns the two most populous cities in the US."
   ]
  },
  {
   "cell_type": "code",
   "execution_count": 3,
   "metadata": {},
   "outputs": [
    {
     "name": "stdout",
     "output_type": "stream",
     "text": [
      " * sqlite:///./world-db\n",
      "Done.\n"
     ]
    },
    {
     "data": {
      "text/html": [
       "<table>\n",
       "    <thead>\n",
       "        <tr>\n",
       "            <th>Name</th>\n",
       "            <th>Population</th>\n",
       "        </tr>\n",
       "    </thead>\n",
       "    <tbody>\n",
       "        <tr>\n",
       "            <td>New York</td>\n",
       "            <td>8008278</td>\n",
       "        </tr>\n",
       "        <tr>\n",
       "            <td>Los Angeles</td>\n",
       "            <td>3694820</td>\n",
       "        </tr>\n",
       "    </tbody>\n",
       "</table>"
      ],
      "text/plain": [
       "[('New York', 8008278), ('Los Angeles', 3694820)]"
      ]
     },
     "execution_count": 3,
     "metadata": {},
     "output_type": "execute_result"
    }
   ],
   "source": [
    "%%sql\n",
    "SELECT Name, Population\n",
    "FROM City\n",
    "WHERE CountryCode = 'USA'\n",
    "ORDER BY Population DESC\n",
    "LIMIT 2;"
   ]
  },
  {
   "cell_type": "markdown",
   "metadata": {},
   "source": [
    "**Exercise #3**: write a query that returns the countries that speak at least 50% Greek."
   ]
  },
  {
   "cell_type": "code",
   "execution_count": 4,
   "metadata": {},
   "outputs": [
    {
     "name": "stdout",
     "output_type": "stream",
     "text": [
      " * sqlite:///./world-db\n",
      "Done.\n"
     ]
    },
    {
     "data": {
      "text/html": [
       "<table>\n",
       "    <thead>\n",
       "        <tr>\n",
       "            <th>Name</th>\n",
       "        </tr>\n",
       "    </thead>\n",
       "    <tbody>\n",
       "        <tr>\n",
       "            <td>Cyprus</td>\n",
       "        </tr>\n",
       "        <tr>\n",
       "            <td>Greece</td>\n",
       "        </tr>\n",
       "    </tbody>\n",
       "</table>"
      ],
      "text/plain": [
       "[('Cyprus',), ('Greece',)]"
      ]
     },
     "execution_count": 4,
     "metadata": {},
     "output_type": "execute_result"
    }
   ],
   "source": [
    "%%sql\n",
    "SELECT C.Name\n",
    "FROM Country C, CountryLanguage L\n",
    "WHERE C.Code = L.CountryCode\n",
    "AND L.Language = 'Greek'\n",
    "AND L.Percentage >= 50 ;"
   ]
  },
  {
   "cell_type": "markdown",
   "metadata": {},
   "source": [
    "**Exercise #4**: write a query that returns the district of the capital of USA."
   ]
  },
  {
   "cell_type": "code",
   "execution_count": 5,
   "metadata": {},
   "outputs": [
    {
     "name": "stdout",
     "output_type": "stream",
     "text": [
      " * sqlite:///./world-db\n",
      "Done.\n"
     ]
    },
    {
     "data": {
      "text/html": [
       "<table>\n",
       "    <thead>\n",
       "        <tr>\n",
       "            <th>District</th>\n",
       "        </tr>\n",
       "    </thead>\n",
       "    <tbody>\n",
       "        <tr>\n",
       "            <td>District of Columbia</td>\n",
       "        </tr>\n",
       "    </tbody>\n",
       "</table>"
      ],
      "text/plain": [
       "[('District of Columbia',)]"
      ]
     },
     "execution_count": 5,
     "metadata": {},
     "output_type": "execute_result"
    }
   ],
   "source": [
    "%%sql\n",
    "SELECT T.district\n",
    "FROM Country C, City T\n",
    "WHERE C.code = 'USA'\n",
    "AND C.capital = T.id ;"
   ]
  },
  {
   "cell_type": "code",
   "execution_count": null,
   "metadata": {},
   "outputs": [],
   "source": []
  }
 ],
 "metadata": {
  "kernelspec": {
   "display_name": "Python 3 (ipykernel)",
   "language": "python",
   "name": "python3"
  },
  "language_info": {
   "codemirror_mode": {
    "name": "ipython",
    "version": 3
   },
   "file_extension": ".py",
   "mimetype": "text/x-python",
   "name": "python",
   "nbconvert_exporter": "python",
   "pygments_lexer": "ipython3",
   "version": "3.9.13"
  }
 },
 "nbformat": 4,
 "nbformat_minor": 1
}
